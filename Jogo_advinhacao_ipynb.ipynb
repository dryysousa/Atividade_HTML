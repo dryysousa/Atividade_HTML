{
  "nbformat": 4,
  "nbformat_minor": 0,
  "metadata": {
    "colab": {
      "provenance": [],
      "authorship_tag": "ABX9TyP6IeYV7H5+hfm3rHs0kkqo",
      "include_colab_link": true
    },
    "kernelspec": {
      "name": "python3",
      "display_name": "Python 3"
    },
    "language_info": {
      "name": "python"
    }
  },
  "cells": [
    {
      "cell_type": "markdown",
      "metadata": {
        "id": "view-in-github",
        "colab_type": "text"
      },
      "source": [
        "<a href=\"https://colab.research.google.com/github/dryysousa/Atividade_HTML/blob/main/Jogo_advinhacao_ipynb.ipynb\" target=\"_parent\"><img src=\"https://colab.research.google.com/assets/colab-badge.svg\" alt=\"Open In Colab\"/></a>"
      ]
    },
    {
      "cell_type": "code",
      "execution_count": null,
      "metadata": {
        "id": "UNTzYfzD-zR-"
      },
      "outputs": [],
      "source": [
        "import random\n",
        "\n",
        "nome_usuario = input('Digite seu nome de usuário: ') #inicial\n",
        "numero_secreto = random.randint(1, 1000) #numero aleatorio\n",
        "tentativas_maximas = 30  #número máximo de tentativas\n",
        "tentativas = 0\n",
        "\n",
        "while tentativas < tentativas_maximas:\n",
        "    chute = input(f'Olá, {nome_usuario} vamos jogar! Digite um número entre 1 e 1000. Você tem {tentativas_maximas} chances :')\n",
        "\n",
        "   # Certificar de que o valor digitado é um número\n",
        "    try:\n",
        "        chute = int(chute)\n",
        "        # Verifica se está correto\n",
        "        if chute == numero_secreto:\n",
        "            print(f'Muito Bem, {nome_usuario}!!! Leu minha memória RAM? Você acertou!')\n",
        "            break  # Sai do loop se estiver correto\n",
        "        elif chute > numero_secreto:\n",
        "            print(f'Poxa, {nome_usuario} Quase lá... o número secreto é menor')\n",
        "        else:\n",
        "            print(f'Poxa, {nome_usuario} Quase lá... o número secreto é maior')\n",
        "\n",
        "        tentativas += 1  # contador de tentativas\n",
        "    except ValueError:\n",
        "        print('Por favor, digite um número válido.')  # Mensagem de erro se a entrada não for um número\n",
        "\n",
        "# Se o usuário atingir o número máximo de tentativas\n",
        "if tentativas == tentativas_maximas:\n",
        "    print(f'Suas tentativas acabaram, {nome_usuario}, o jogo acabou!')"
      ]
    }
  ]
}